{
 "cells": [
  {
   "cell_type": "markdown",
   "metadata": {},
   "source": [
    "## Import Statements"
   ]
  },
  {
   "cell_type": "code",
   "execution_count": 1,
   "metadata": {},
   "outputs": [],
   "source": [
    "import pandas as pd\n",
    "import numpy as np\n",
    "import glob\n",
    "from sklearn.model_selection import train_test_split \n",
    "from sklearn.preprocessing import normalize\n",
    "from sklearn.preprocessing import StandardScaler\n",
    "# from sklearn.linear_model import metrics\n",
    "import matplotlib.pyplot as plt\n",
    "import sklearn.metrics as metrics\n",
    "from sklearn.linear_model import LogisticRegression\n",
    "import seaborn as sns\n",
    "from sklearn.feature_selection import RFE\n",
    "sns.set()\n",
    "import matplotlib\n",
    "from sklearn.decomposition import PCA\n",
    "from sklearn.tree import DecisionTreeClassifier\n",
    "from sklearn.neighbors import KNeighborsClassifier\n",
    "from imblearn.under_sampling import RandomUnderSampler\n",
    "from mpl_toolkits.mplot3d import Axes3D\n",
    "from sklearn import svm\n",
    "from sklearn.svm import SVC\n",
    "from sklearn.neural_network import MLPClassifier\n",
    "from sklearn.datasets import make_classification\n",
    "from sklearn.manifold import TSNE\n",
    "from matplotlib.colors import LogNorm "
   ]
  },
  {
   "cell_type": "markdown",
   "metadata": {},
   "source": [
    "## Data Processing"
   ]
  },
  {
   "cell_type": "markdown",
   "metadata": {},
   "source": [
    "### Add binary column with -1, 0, 1"
   ]
  },
  {
   "cell_type": "code",
   "execution_count": 8,
   "metadata": {},
   "outputs": [],
   "source": [
    "# Change number in binary column to a -1 every other 10 seconds\n",
    "def controlCol(data):\n",
    "    \n",
    "    binary = data['binary']\n",
    "    for i in range(0, len(binary)):\n",
    "        test = i % 20\n",
    "        if 0 <= test and test < 10:\n",
    "            binary.loc[i] = -1\n",
    "    data.loc['binary'] = binary    \n",
    "\n",
    "#     print (binary)\n",
    "    return data"
   ]
  },
  {
   "cell_type": "markdown",
   "metadata": {},
   "source": [
    "### Reads and concatenates data"
   ]
  },
  {
   "cell_type": "code",
   "execution_count": 138,
   "metadata": {},
   "outputs": [
    {
     "name": "stdout",
     "output_type": "stream",
     "text": [
      "dr\n",
      "we\n",
      "fi\n",
      "sq\n",
      "sq\n",
      "co\n",
      "ho\n",
      "ro\n",
      "sm\n",
      "dr\n",
      "we\n",
      "fi\n",
      "sq\n",
      "co\n",
      "ho\n",
      "ro\n",
      "sm\n",
      "we\n",
      "fi\n",
      "sq\n",
      "co\n",
      "ho\n",
      "sm\n",
      "so\n",
      "dr\n",
      "we\n",
      "fi\n",
      "sq\n",
      "co\n",
      "ho\n",
      "ro\n",
      "sm\n",
      "dr\n",
      "we\n",
      "fi\n",
      "sq\n",
      "co\n",
      "ho\n",
      "ro\n",
      "sm\n",
      "dr\n",
      "we\n",
      "fi\n",
      "sq\n",
      "co\n",
      "ho\n",
      "ro\n",
      "sm\n",
      "dr\n",
      "we\n",
      "fi\n",
      "sq\n",
      "co\n",
      "ho\n",
      "ro\n",
      "sm\n",
      "dr\n",
      "ew\n",
      "fi\n",
      "sq\n",
      "co\n"
     ]
    },
    {
     "name": "stderr",
     "output_type": "stream",
     "text": [
      "C:\\Users\\Cleah\\anaconda3\\envs\\pt-project\\lib\\site-packages\\pandas\\core\\indexing.py:1636: SettingWithCopyWarning: \n",
      "A value is trying to be set on a copy of a slice from a DataFrame\n",
      "\n",
      "See the caveats in the documentation: https://pandas.pydata.org/pandas-docs/stable/user_guide/indexing.html#returning-a-view-versus-a-copy\n",
      "  self._setitem_single_block(indexer, value, name)\n"
     ]
    },
    {
     "name": "stdout",
     "output_type": "stream",
     "text": [
      "ho\n",
      "ro\n",
      "ms\n",
      "ed\n",
      "we\n",
      "fi\n",
      "sq\n",
      "co\n",
      "ho\n",
      "ro\n",
      "sm\n",
      "ed\n",
      "we\n",
      "fi\n",
      "sq\n",
      "co\n",
      "ho\n",
      "ro\n",
      "sm\n",
      "dr\n",
      "we\n",
      "fi\n",
      "sq\n",
      "co\n",
      "ho\n",
      "ro\n",
      "sm\n",
      "dr\n",
      "we\n",
      "fi\n",
      "sq\n",
      "co\n",
      "ho\n",
      "ro\n",
      "sm\n",
      "     Delta_TP9  Delta_AF8  Delta_TP10  Theta_TP9  Theta_AF8  Theta_TP10  \\\n",
      "5     0.677059   0.876303    0.854108   0.575702   0.153577    0.837218   \n",
      "7     0.640613   0.771570    0.854108   0.557994   0.237928    0.837218   \n",
      "9     0.556337   1.144795    0.854108   0.581921   0.338251    0.837218   \n",
      "11    0.556337   1.742431    0.854108   0.581921   0.994503    0.837218   \n",
      "12    0.556337   1.679954    0.854108   0.581921   1.067813    0.837218   \n",
      "..         ...        ...         ...        ...        ...         ...   \n",
      "818   0.749860   0.749651    0.834955   0.049436   0.334217    0.013887   \n",
      "819   0.141529   0.754988   -0.157798   0.466435   0.351822    0.210239   \n",
      "822   0.393585   0.453935    0.224950   0.510073   0.596231    0.272526   \n",
      "823   0.527284   0.539507    0.165605   0.407017   0.537408   -0.372570   \n",
      "825   0.585129   0.539929    0.300667   0.422905   0.576253   -0.266730   \n",
      "\n",
      "     Alpha_TP9  Alpha_AF8  Alpha_TP10  Beta_TP9  Beta_AF8  Beta_TP10  \\\n",
      "5     0.572034   0.280298    0.256521  1.111003  0.651034   0.825619   \n",
      "7     0.646096   0.281277    0.256521  1.127265  0.628013   0.825619   \n",
      "9     0.590014   0.652519    0.256521  1.173977 -0.010033   0.825619   \n",
      "11    0.590014   0.717887    0.256521  1.173977  0.149694   0.825619   \n",
      "12    0.590014   0.797189    0.256521  1.173977  0.286260   0.825619   \n",
      "..         ...        ...         ...       ...       ...        ...   \n",
      "818   0.639308   0.366358    0.285534  0.246969  0.319692   0.297622   \n",
      "819   0.815588   0.280442    0.595693  0.342186  0.311876   0.225253   \n",
      "822   0.821409   0.843640    0.630735  0.341933  0.307076   0.213158   \n",
      "823   1.037209   0.718648    0.789150  0.210501  0.263712   0.174006   \n",
      "825   1.114216   0.906231    0.851477  0.256981  0.293751   0.211460   \n",
      "\n",
      "     Gamma_TP9  Gamma_AF8  Gamma_TP10 extype participant  binary  \n",
      "5     1.527036   0.290320    0.699835     to           A    -1.0  \n",
      "7     1.527553   0.316066    0.699835     to           A    -1.0  \n",
      "9     1.494234   0.256233    0.699835     to           A    -1.0  \n",
      "11    1.494234   0.253131    0.699835     to           A     1.0  \n",
      "12    1.494234   0.195043    0.699835     to           A     1.0  \n",
      "..         ...        ...         ...    ...         ...     ...  \n",
      "818   0.322316   0.264721    0.525400     tv           D    -1.0  \n",
      "819  -0.418094   0.258679    0.281016     tv           D    -1.0  \n",
      "822  -0.437045   0.003315    0.281783     tv           D    -1.0  \n",
      "823  -0.321348   0.069023    0.375772     tv           D     1.0  \n",
      "825  -0.371994  -0.019983    0.393793     tv           D     1.0  \n",
      "\n",
      "[591 rows x 18 columns]\n"
     ]
    }
   ],
   "source": [
    "# experiment type(vi, to, tv) \n",
    "\n",
    "sense1 = \"to\"\n",
    "sense2 = \"tv\"\n",
    "touch_type = \"co\"\n",
    "path = r'C:\\\\Users\\\\Cleah\\\\Documents\\\\A Tactile\\\\Data\\\\'\n",
    "\n",
    "#  Treats infinty values as NaN values\n",
    "pd.set_option('use_inf_as_na', True)\n",
    "# name of the data file\n",
    "fileName = glob.glob(path + \"*\\\\\" + \"*.csv\")\n",
    "# print(fileName[0])\n",
    "\n",
    "totalRows = pd.DataFrame()\n",
    "for i in range(0, len(fileName)):\n",
    "    thisName = fileName[i]\n",
    "    extype = thisName[-26] + thisName[-25]\n",
    "    obtype = thisName[-19] + thisName[-18]\n",
    "    print(obtype)\n",
    "    if obtype == touch_type:\n",
    "        if (extype == sense1 or extype == sense2):\n",
    "            file = pd.read_csv(thisName)\n",
    "            file['extype'] = extype\n",
    "            file['participant'] = thisName[-16]\n",
    "            file['binary'] = 1\n",
    "            file = controlCol(file)\n",
    "            totalRows = pd.concat([totalRows, file], axis = 0, ignore_index = True)\n",
    "\n",
    "totalRows = totalRows.drop(totalRows.columns[21:-3], axis = 1)\n",
    "totalRows = totalRows.drop(totalRows.columns[0:1], axis = 1)\n",
    "# print(totalRows)\n",
    "# Remove electrode AF7\n",
    "totalRows = totalRows.drop(columns = ['Delta_AF7', 'Alpha_AF7', 'Gamma_AF7', 'Theta_AF7', 'Beta_AF7'], axis = 1)\n",
    "\n",
    "# Data Processing\n",
    "# deleting columns\n",
    "# deleting rows\n",
    "totalRows.dropna(\n",
    "   axis = 0,\n",
    "   how = 'any',\n",
    "   thresh = None,\n",
    "   subset = None, \n",
    "   inplace = True\n",
    " )\n",
    "# totalRows = removeRows(totalRows)\n",
    "data = totalRows\n",
    "data = removeRows(data)\n",
    "print(data)"
   ]
  },
  {
   "cell_type": "markdown",
   "metadata": {},
   "source": [
    "### Removes rows with 0 or -infinity"
   ]
  },
  {
   "cell_type": "code",
   "execution_count": 139,
   "metadata": {},
   "outputs": [],
   "source": [
    "# This function removes rows with twenty zeros on them.\n",
    "def removeRows(data):\n",
    "    # Create a new DataFrame where each cell is True if zero and False otherwise\n",
    "    zeros = data == 0\n",
    "    # Create a new DataFrame where each row has a single cell containing number of zeros\n",
    "    num_zeros = zeros.sum(axis = 1)  # Axis is 1 (rows = axis 0 and columns = axis 1) because we are producing sums of rows \"along\" axis 1\n",
    "    \n",
    "    # Create a new DataFrame where each row has a single cell that is True if there aren't 20 zeros and False otherwise\n",
    "    keep_row = num_zeros != 15  # This creates a sort of \"index\" that tells us the indices of which rows to keep\n",
    "    \n",
    "    # Select the rows to keep from our input DataFrame (called df) using the indices of rows to keep that are stored in keep_row\n",
    "    return data[keep_row]"
   ]
  },
  {
   "cell_type": "markdown",
   "metadata": {},
   "source": [
    "## Data Preparation"
   ]
  },
  {
   "cell_type": "code",
   "execution_count": 140,
   "metadata": {
    "scrolled": true
   },
   "outputs": [
    {
     "name": "stdout",
     "output_type": "stream",
     "text": [
      "[[ 0.56  1.74  0.85 ...  1.49  0.25  0.7 ]\n",
      " [ 0.56  1.68  0.85 ...  1.49  0.2   0.7 ]\n",
      " [ 0.56  1.03  1.12 ...  1.49  0.1   0.68]\n",
      " ...\n",
      " [ 0.87 -0.12  0.98 ... -0.3   0.09  0.23]\n",
      " [ 0.53  0.54  0.17 ... -0.32  0.07  0.38]\n",
      " [ 0.59  0.54  0.3  ... -0.37 -0.02  0.39]]\n",
      "     Delta_TP9  Delta_AF8  Delta_TP10  Theta_TP9  Theta_AF8  Theta_TP10  \\\n",
      "11        0.56       1.74        0.85       0.58       0.99        0.84   \n",
      "12        0.56       1.68        0.85       0.58       1.07        0.84   \n",
      "14        0.56       1.03        1.12       0.58       0.56        0.73   \n",
      "15        1.31       1.25        1.15       1.24       0.65        0.86   \n",
      "16        1.31       1.01        1.14       1.15       0.62        0.84   \n",
      "..         ...        ...         ...        ...        ...         ...   \n",
      "809       0.78       0.88        0.98       0.41       0.44        0.29   \n",
      "810       0.33       0.56        0.35       0.22       0.38        0.34   \n",
      "812       0.87      -0.12        0.98       0.44       0.16        0.37   \n",
      "823       0.53       0.54        0.17       0.41       0.54       -0.37   \n",
      "825       0.59       0.54        0.30       0.42       0.58       -0.27   \n",
      "\n",
      "     Alpha_TP9  Alpha_AF8  Alpha_TP10  Beta_TP9  Beta_AF8  Beta_TP10  \\\n",
      "11        0.59       0.72        0.26      1.17      0.15       0.83   \n",
      "12        0.59       0.80        0.26      1.17      0.29       0.83   \n",
      "14        0.59       0.73        0.99      1.17      0.14       1.02   \n",
      "15        1.00       0.41        0.71      0.89      0.02       0.77   \n",
      "16        0.98       0.42        0.86      0.85      0.10       0.58   \n",
      "..         ...        ...         ...       ...       ...        ...   \n",
      "809       0.92       0.74        0.94      0.17      0.26       0.24   \n",
      "810       0.67       0.70        0.78     -0.09      0.25       0.15   \n",
      "812       0.57       0.61        0.67     -0.05      0.12       0.16   \n",
      "823       1.04       0.72        0.79      0.21      0.26       0.17   \n",
      "825       1.11       0.91        0.85      0.26      0.29       0.21   \n",
      "\n",
      "     Gamma_TP9  Gamma_AF8  Gamma_TP10  \n",
      "11        1.49       0.25        0.70  \n",
      "12        1.49       0.20        0.70  \n",
      "14        1.49       0.10        0.68  \n",
      "15        0.66       0.27        0.52  \n",
      "16        0.55       0.34        0.54  \n",
      "..         ...        ...         ...  \n",
      "809      -0.32       0.15        0.17  \n",
      "810      -0.30       0.18        0.29  \n",
      "812      -0.30       0.09        0.23  \n",
      "823      -0.32       0.07        0.38  \n",
      "825      -0.37      -0.02        0.39  \n",
      "\n",
      "[278 rows x 15 columns]\n"
     ]
    }
   ],
   "source": [
    "# dataBin contains binary column without -1\n",
    "dataBin = data[data['binary'] != -1]\n",
    "dataOrig = dataBin\n",
    "# Round to 2 places\n",
    "dataBin = dataBin.round(2)\n",
    "dataXY = dataBin.drop(columns = ['extype', 'participant', 'binary'])\n",
    "# Convert dataframe for vision and touch-vision to numpy array\n",
    "\n",
    "y_raw = dataBin['extype'].to_numpy()\n",
    "y = np.zeros(len(y_raw))\n",
    "for i in range(len(y_raw)):\n",
    "    if y_raw[i] == sense1:\n",
    "        y[i] = 1\n",
    "# print(y)\n",
    "# x = dataXY[dataBin['extype'] == sense1].to_numpy()\n",
    "# y = dataXY[dataBin['extype'] == sense2].to_numpy()\n",
    "x = dataXY.to_numpy()\n",
    "print(x)\n",
    "# print(dataBin['extype'])\n",
    "# Normalize Data vision\n",
    "scalerX = StandardScaler()\n",
    "X = scalerX.fit_transform(x)\n",
    "# Normalize Data touch-vision\n",
    "# scalerY = StandardScaler()\n",
    "# Y = scalerY.fit_transform(y)\n",
    "# crop X\n",
    "# X = X[0: len(Y)]\n",
    "print(dataXY)"
   ]
  },
  {
   "cell_type": "markdown",
   "metadata": {},
   "source": [
    "## Binary Classification"
   ]
  },
  {
   "cell_type": "code",
   "execution_count": 141,
   "metadata": {},
   "outputs": [
    {
     "name": "stdout",
     "output_type": "stream",
     "text": [
      "Accuracy:  0.9285714285714286\n"
     ]
    }
   ],
   "source": [
    "# Split data into 80% Training and 20% Testing\n",
    "X_train, X_test, y_train, y_test = train_test_split(X, y, test_size=0.20, random_state=42)\n",
    "logReg2 = LogisticRegression(random_state = 0)\n",
    "logReg2 = logReg2.fit(X_train, y_train)\n",
    "y_pred = logReg2.predict(X_test)\n",
    "# Model Accuracy\n",
    "accuracy = metrics.accuracy_score(y_test, y_pred)\n",
    "print(\"Accuracy: \", accuracy)"
   ]
  },
  {
   "cell_type": "markdown",
   "metadata": {},
   "source": [
    "#### Confusion Matrix + RFE"
   ]
  },
  {
   "cell_type": "code",
   "execution_count": 142,
   "metadata": {},
   "outputs": [
    {
     "name": "stdout",
     "output_type": "stream",
     "text": [
      "[[29  1]\n",
      " [ 3 23]]\n"
     ]
    },
    {
     "data": {
      "image/png": "[encoded data removed]",
      "text/plain": [
       "<Figure size 432x288 with 2 Axes>"
      ]
     },
     "metadata": {},
     "output_type": "display_data"
    },
    {
     "name": "stdout",
     "output_type": "stream",
     "text": [
      "[False False False False  True False False False False False False False\n",
      " False  True False]\n",
      "[ 7 11  6 13  1 12 14 10  3  5  2  9  4  1  8]\n"
     ]
    },
    {
     "name": "stderr",
     "output_type": "stream",
     "text": [
      "C:\\Users\\Cleah\\anaconda3\\envs\\pt-project\\lib\\site-packages\\sklearn\\utils\\validation.py:70: FutureWarning: Pass n_features_to_select=2 as keyword args. From version 1.0 (renaming of 0.25) passing these as positional arguments will result in an error\n",
      "  warnings.warn(f\"Pass {args_msg} as keyword args. From version \"\n"
     ]
    }
   ],
   "source": [
    "# Confusion Matrix\n",
    "cnf_matrix = metrics.confusion_matrix(y_test, y_pred)\n",
    "print(cnf_matrix)\n",
    "class_names = [0,1]\n",
    "fig, ax = plt.subplots()\n",
    "tick_marks = np.arange(len(class_names))\n",
    "plt.xticks(tick_marks, class_names)\n",
    "plt.yticks(tick_marks, class_names)\n",
    "sns.heatmap(pd.DataFrame(cnf_matrix), annot = True, cmap = 'YlGnBu', fmt = 'g')\n",
    "ax.xaxis.set_label_position(\"top\")\n",
    "plt.tight_layout()\n",
    "plt.title('Confusion matrix', y=1.1)\n",
    "plt.ylabel('Actual label')\n",
    "plt.xlabel('Predicted label')\n",
    "plt.show()\n",
    "# Recursive Frequency Selection\n",
    "rfe = RFE(logReg2, 2)\n",
    "rfe = rfe.fit(X_train, y_train)\n",
    "# summarize the selection of the attributes\n",
    "print(rfe.support_)\n",
    "print(rfe.ranking_)"
   ]
  },
  {
   "cell_type": "markdown",
   "metadata": {},
   "source": [
    "## HeatMap"
   ]
  },
  {
   "cell_type": "code",
   "execution_count": 146,
   "metadata": {},
   "outputs": [
    {
     "name": "stdout",
     "output_type": "stream",
     "text": [
      "[[ 7. 12.  2.]\n",
      " [11. 14.  9.]\n",
      " [ 6. 10.  4.]\n",
      " [13.  3.  1.]\n",
      " [ 1.  5.  8.]]\n"
     ]
    },
    {
     "data": {
      "image/png": "[encoded data removed]",
      "text/plain": [
       "<Figure size 432x288 with 1 Axes>"
      ]
     },
     "metadata": {},
     "output_type": "display_data"
    }
   ],
   "source": [
    "freqband = [\"Delta\", \"Theta\", \"Alpha\", \"Beta\", \"Gamma\"]\n",
    "electrode = [\"TP9\", \"AF8\", \"TP10\"]\n",
    "rfeRank = rfe.ranking_\n",
    "rankMat = np.zeros((5,3))\n",
    "# frequency band type\n",
    "for i in np.arange(1, 6):\n",
    "    # electrode\n",
    "    for j in np.arange(1, 4): \n",
    "        \n",
    "        rankMat[i - 1,j - 1] = rfeRank[5 * (j - 1) + i - 1]\n",
    "print(rankMat)\n",
    "\n",
    "fig, ax = plt.subplots()\n",
    "im = ax.imshow(rankMat)\n",
    "\n",
    "# We want to show all ticks...\n",
    "ax.set_xticks(np.arange(len(electrode)))\n",
    "ax.set_yticks(np.arange(len(freqband)))\n",
    "# ... and label them with the respective list entries\n",
    "ax.set_xticklabels(electrode)\n",
    "ax.set_yticklabels(freqband)\n",
    "\n",
    "# Rotate the tick labels and set their alignment.\n",
    "plt.setp(ax.get_xticklabels(), rotation = 45, ha = \"right\",\n",
    "         rotation_mode = \"anchor\")\n",
    "\n",
    "# Loop over data dimensions and create text annotations.\n",
    "for i in range(len(freqband)):\n",
    "    for j in range(len(electrode)):\n",
    "        text = ax.text(j, i, rankMat[i, j],ha = \"center\", va = \"center\", color = \"w\")\n",
    "        \n",
    "\n",
    "ax.set_title(\"Hot: To vs. Vi\")\n",
    "fig.tight_layout()\n",
    "plt.show()\n"
   ]
  },
  {
   "cell_type": "code",
   "execution_count": 147,
   "metadata": {},
   "outputs": [],
   "source": [
    "def heatmap(data, row_labels, col_labels, ax=None,\n",
    "            cbar_kw={}, cbarlabel=\"\", **kwargs):\n",
    "    \"\"\"\n",
    "    Create a heatmap from a numpy array and two lists of labels.\n",
    "\n",
    "    Parameters\n",
    "    ----------\n",
    "    data\n",
    "        A 2D numpy array of shape (N, M).\n",
    "    row_labels\n",
    "        A list or array of length N with the labels for the rows.\n",
    "    col_labels\n",
    "        A list or array of length M with the labels for the columns.\n",
    "    ax\n",
    "        A `matplotlib.axes.Axes` instance to which the heatmap is plotted.  If\n",
    "        not provided, use current axes or create a new one.  Optional.\n",
    "    cbar_kw\n",
    "        A dictionary with arguments to `matplotlib.Figure.colorbar`.  Optional.\n",
    "    cbarlabel\n",
    "        The label for the colorbar.  Optional.\n",
    "    **kwargs\n",
    "        All other arguments are forwarded to `imshow`.\n",
    "    \"\"\"\n",
    "\n",
    "    if not ax:\n",
    "        ax = plt.gca()\n",
    "\n",
    "    # Plot the heatmap\n",
    "    im = ax.imshow(data, **kwargs)\n",
    "\n",
    "    # Create colorbar\n",
    "    cbar = ax.figure.colorbar(im, ax=ax, **cbar_kw)\n",
    "    cbar.ax.set_ylabel(cbarlabel, rotation=-90, va=\"bottom\")\n",
    "\n",
    "    # We want to show all ticks...\n",
    "    ax.set_xticks(np.arange(data.shape[1]))\n",
    "    ax.set_yticks(np.arange(data.shape[0]))\n",
    "    # ... and label them with the respective list entries.\n",
    "    ax.set_xticklabels(col_labels)\n",
    "    ax.set_yticklabels(row_labels)\n",
    "\n",
    "    # Let the horizontal axes labeling appear on top.\n",
    "    ax.tick_params(top=True, bottom=False,\n",
    "                   labeltop=True, labelbottom=False)\n",
    "\n",
    "    # Rotate the tick labels and set their alignment.\n",
    "    plt.setp(ax.get_xticklabels(), rotation=-30, ha=\"right\",\n",
    "             rotation_mode=\"anchor\")\n",
    "\n",
    "    # Turn spines off and create white grid.\n",
    "    for edge, spine in ax.spines.items():\n",
    "        spine.set_visible(False)\n",
    "\n",
    "    ax.set_xticks(np.arange(data.shape[1]+1)-.5, minor=True)\n",
    "    ax.set_yticks(np.arange(data.shape[0]+1)-.5, minor=True)\n",
    "    ax.grid(which=\"minor\", color=\"w\", linestyle='-', linewidth=3)\n",
    "    ax.tick_params(which=\"minor\", bottom=False, left=False)\n",
    "\n",
    "    return im, cbar\n",
    "\n",
    "\n",
    "def annotate_heatmap(im, data=None, valfmt=\"{x:.2f}\",\n",
    "                     textcolors=(\"black\", \"white\"),\n",
    "                     threshold=None, **textkw):\n",
    "    \"\"\"\n",
    "    A function to annotate a heatmap.\n",
    "\n",
    "    Parameters\n",
    "    ----------\n",
    "    im\n",
    "        The AxesImage to be labeled.\n",
    "    data\n",
    "        Data used to annotate.  If None, the image's data is used.  Optional.\n",
    "    valfmt\n",
    "        The format of the annotations inside the heatmap.  This should either\n",
    "        use the string format method, e.g. \"$ {x:.2f}\", or be a\n",
    "        `matplotlib.ticker.Formatter`.  Optional.\n",
    "    textcolors\n",
    "        A pair of colors.  The first is used for values below a threshold,\n",
    "        the second for those above.  Optional.\n",
    "    threshold\n",
    "        Value in data units according to which the colors from textcolors are\n",
    "        applied.  If None (the default) uses the middle of the colormap as\n",
    "        separation.  Optional.\n",
    "    **kwargs\n",
    "        All other arguments are forwarded to each call to `text` used to create\n",
    "        the text labels.\n",
    "    \"\"\"\n",
    "\n",
    "    if not isinstance(data, (list, np.ndarray)):\n",
    "        data = im.get_array()\n",
    "\n",
    "    # Normalize the threshold to the images color range.\n",
    "    if threshold is not None:\n",
    "        threshold = im.norm(threshold)\n",
    "    else:\n",
    "        threshold = im.norm(data.max())/2.\n",
    "\n",
    "    # Set default alignment to center, but allow it to be\n",
    "    # overwritten by textkw.\n",
    "    kw = dict(horizontalalignment=\"center\",\n",
    "              verticalalignment=\"center\")\n",
    "    kw.update(textkw)\n",
    "\n",
    "    # Get the formatter in case a string is supplied\n",
    "    if isinstance(valfmt, str):\n",
    "        valfmt = matplotlib.ticker.StrMethodFormatter(valfmt)\n",
    "\n",
    "    # Loop over the data and create a `Text` for each \"pixel\".\n",
    "    # Change the text's color depending on the data.\n",
    "    texts = []\n",
    "    for i in range(data.shape[0]):\n",
    "        for j in range(data.shape[1]):\n",
    "            kw.update(color=textcolors[int(im.norm(data[i, j]) < threshold)])\n",
    "            text = im.axes.text(j, i, valfmt(data[i, j], None), **kw)\n",
    "            texts.append(text)\n",
    "\n",
    "    return texts"
   ]
  },
  {
   "cell_type": "code",
   "execution_count": 148,
   "metadata": {},
   "outputs": [
    {
     "data": {
      "image/png": "[encoded data removed]",
      "text/plain": [
       "<Figure size 432x288 with 2 Axes>"
      ]
     },
     "metadata": {},
     "output_type": "display_data"
    }
   ],
   "source": [
    "fig, ax = plt.subplots()\n",
    "\n",
    "im, cbar = heatmap(rankMat, freqband, electrode, ax=ax,\n",
    "                   cmap=\"PuBuGn_r\", cbarlabel=\"RFE Rank\")\n",
    "texts = annotate_heatmap(im, valfmt=\"{x:.1f}\")\n",
    "plt.rcParams[\"axes.grid\"] = False\n",
    "fig.tight_layout()\n",
    "plt.show()"
   ]
  }
 ],
 "metadata": {
  "kernelspec": {
   "display_name": "Python 3",
   "language": "python",
   "name": "python3"
  },
  "language_info": {
   "codemirror_mode": {
    "name": "ipython",
    "version": 3
   },
   "file_extension": ".py",
   "mimetype": "text/x-python",
   "name": "python",
   "nbconvert_exporter": "python",
   "pygments_lexer": "ipython3",
   "version": "3.8.8"
  }
 },
 "nbformat": 4,
 "nbformat_minor": 4
}
