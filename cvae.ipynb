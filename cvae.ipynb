{
 "cells": [
  {
   "cell_type": "markdown",
   "metadata": {},
   "source": [
    "## Import Statements"
   ]
  },
  {
   "cell_type": "code",
   "execution_count": 1,
   "metadata": {},
   "outputs": [],
   "source": [
    "import pandas as pd\n",
    "import glob\n",
    "import numpy as np\n",
    "from sklearn.neural_network import MLPClassifier\n",
    "from sklearn.model_selection import train_test_split \n",
    "from sklearn.preprocessing import normalize\n",
    "from sklearn.preprocessing import StandardScaler\n",
    "from sklearn.utils.extmath import softmax\n",
    "from sklearn.datasets import make_regression\n",
    "from sklearn.linear_model import LinearRegression\n",
    "from sklearn.linear_model import LogisticRegression\n",
    "from sklearn.neighbors import KNeighborsRegressor\n",
    "from sklearn import metrics\n",
    "from sklearn.metrics import classification_report, recall_score, precision_score, accuracy_score\n",
    "from sklearn import svm\n",
    "import seaborn as sns\n",
    "sns.set()\n",
    "from sklearn.svm import SVC\n",
    "from sklearn.neural_network import MLPRegressor\n",
    "from sklearn.datasets import make_regression\n",
    "from sklearn.metrics import mean_squared_error\n",
    "import matplotlib.pyplot as plt\n",
    "import torch\n",
    "import torch.nn as nn\n",
    "import torch.nn.functional as F\n",
    "from torch.utils.data import DataLoader\n",
    "from torch.utils.data import TensorDataset\n",
    "import torch.optim as optim"
   ]
  },
  {
   "cell_type": "markdown",
   "metadata": {},
   "source": [
    "## Data Preprocessing"
   ]
  },
  {
   "cell_type": "markdown",
   "metadata": {},
   "source": [
    "### Add binary column with -1, 0, 1"
   ]
  },
  {
   "cell_type": "code",
   "execution_count": 2,
   "metadata": {},
   "outputs": [],
   "source": [
    "# Change number in binary column to a -1 every other 10 seconds\n",
    "def controlCol(data):\n",
    "    \n",
    "    binary = data['binary']\n",
    "    for i in range(0, len(binary)):\n",
    "        test = i % 20\n",
    "        if 0 <= test and test < 10:\n",
    "            binary.loc[i] = -1\n",
    "    data.loc['binary'] = binary    \n",
    "\n",
    "#     print (binary)\n",
    "    return data"
   ]
  },
  {
   "cell_type": "markdown",
   "metadata": {},
   "source": [
    "### Reads and concatenates data"
   ]
  },
  {
   "cell_type": "code",
   "execution_count": 3,
   "metadata": {},
   "outputs": [],
   "source": [
    "# Takes in experiment type(vi, to, tv) and object name\n",
    "# Cold = 1\n",
    "# Hot = 0\n",
    "\n",
    "path = r'C:\\\\Users\\\\Cleah\\\\Documents\\\\A Tactile\\\\Data\\\\'\n",
    "\n",
    "def concat_data(extype, obtype):\n",
    "    #  Treats infinty values as NaN values\n",
    "    pd.set_option('use_inf_as_na', True)\n",
    "    # name of the data file\n",
    "    fileName = glob.glob(path + \"*\\\\\" + extype + \"-\" + obtype + \"*.csv\")\n",
    "#     print (fileName)\n",
    "    # objectType is for instance hoco + ho\n",
    "    objectType = obtype + obtype[0:2]\n",
    "    # objectType2 is for instance hoco + co\n",
    "    objectType2 = obtype + obtype[2:4]    \n",
    "    \n",
    "    totalRows = pd.read_csv(fileName[0])\n",
    "    if objectType2 in fileName[0]:\n",
    "        # add column of number 1\n",
    "        totalRows['binary'] = 1\n",
    "    else:\n",
    "        # add column of number 0\n",
    "        totalRows['binary'] = 0\n",
    "    for i in range(1, len(fileName)):\n",
    "        file = pd.read_csv(fileName[i])\n",
    "        if objectType2 in fileName[i]:\n",
    "            # add column of number 1\n",
    "            file['binary'] = 1\n",
    "        else:\n",
    "            # add column of number 0\n",
    "            file['binary'] = 0\n",
    "        thisName = fileName[i]\n",
    "        file['participant'] = thisName[-16]\n",
    "        file = controlCol(file)\n",
    "        totalRows = pd.concat([totalRows, file], axis = 0, ignore_index = True)\n",
    "    \n",
    "    totalRows = totalRows.drop(totalRows.columns[21:-2], axis = 1)\n",
    "    # Remove electrode AF7\n",
    "    totalRows = totalRows.drop(columns = ['Delta_AF7', 'Alpha_AF7', 'Gamma_AF7', 'Theta_AF7', 'Beta_AF7'], axis = 1)\n",
    "\n",
    "    # Data Processing\n",
    "    # deleting columns\n",
    "#     totalRows = totalRows.drop(totalRows.columns[21:-2], axis = 1)\n",
    "#     print(totalRows)\n",
    "    # deleting rows\n",
    "    totalRows.dropna(\n",
    "       axis = 0,\n",
    "       how = 'any',\n",
    "       thresh = None,\n",
    "       subset = None,\n",
    "       inplace = True\n",
    "     )\n",
    "    totalRows = removeRows(totalRows)\n",
    "    return totalRows"
   ]
  },
  {
   "cell_type": "markdown",
   "metadata": {},
   "source": [
    "### Removes rows with 0 or -infinity"
   ]
  },
  {
   "cell_type": "code",
   "execution_count": 4,
   "metadata": {},
   "outputs": [],
   "source": [
    "# This function removes rows with twenty zeros on them.\n",
    "def removeRows(data):\n",
    "    # Create a new DataFrame where each cell is True if zero and False otherwise\n",
    "    zeros = data == 0\n",
    "    # Create a new DataFrame where each row has a single cell containing number of zeros\n",
    "    num_zeros = zeros.sum(axis = 1)  # Axis is 1 (rows = axis 0 and columns = axis 1) because we are producing sums of rows \"along\" axis 1\n",
    "    \n",
    "    # Create a new DataFrame where each row has a single cell that is True if there aren't 20 zeros and False otherwise\n",
    "    keep_row = num_zeros != 20  # This creates a sort of \"index\" that tells us the indices of which rows to keep\n",
    "    \n",
    "    # Select the rows to keep from our input DataFrame (called df) using the indices of rows to keep that are stored in keep_row\n",
    "    return data[keep_row]"
   ]
  },
  {
   "cell_type": "markdown",
   "metadata": {},
   "source": [
    "### Data Processing File"
   ]
  },
  {
   "cell_type": "code",
   "execution_count": 27,
   "metadata": {},
   "outputs": [
    {
     "name": "stderr",
     "output_type": "stream",
     "text": [
      "C:\\Users\\Cleah\\anaconda3\\envs\\pt-project\\lib\\site-packages\\pandas\\core\\indexing.py:1636: SettingWithCopyWarning: \n",
      "A value is trying to be set on a copy of a slice from a DataFrame\n",
      "\n",
      "See the caveats in the documentation: https://pandas.pydata.org/pandas-docs/stable/user_guide/indexing.html#returning-a-view-versus-a-copy\n",
      "  self._setitem_single_block(indexer, value, name)\n"
     ]
    },
    {
     "name": "stdout",
     "output_type": "stream",
     "text": [
      "     index                TimeStamp  Delta_TP9  Delta_AF8  Delta_TP10  \\\n",
      "0      130  2020-11-26 12:21:46.983   1.807652   1.003191    0.273898   \n",
      "1      133  2020-11-26 12:21:47.977   1.807652   1.437529    0.273898   \n",
      "2      134  2020-11-26 12:21:48.977   1.807652   0.524038    0.273898   \n",
      "3      137  2020-11-26 12:21:49.978   1.807652   1.525835    0.273898   \n",
      "4      140  2020-11-26 12:21:50.978   1.807652   1.896392    0.273898   \n",
      "..     ...                      ...        ...        ...         ...   \n",
      "579    850  2020-12-19 16:13:10.966   0.918895   0.427594    1.510115   \n",
      "580    851  2020-12-19 16:13:11.967   0.904963   0.207812    0.930535   \n",
      "581    852  2020-12-19 16:13:12.966   0.458401  -0.145021    0.410244   \n",
      "582    854  2020-12-19 16:13:13.971   0.068870   0.077642    0.188752   \n",
      "583    855  2020-12-19 16:13:14.966   0.564199   0.353301    0.984290   \n",
      "\n",
      "     Theta_TP9  Theta_AF8  Theta_TP10  Alpha_TP9  Alpha_AF8  Alpha_TP10  \\\n",
      "0     1.079689   0.685991    0.985595   1.027286   0.265211    1.080443   \n",
      "1     1.079689   1.088910    0.985595   1.027286   0.344887    1.080443   \n",
      "2     1.079689   0.357772    0.985595   1.027286   0.643107    1.080443   \n",
      "3     1.079689   1.166274    0.985595   1.027286   1.068234    1.080443   \n",
      "4     1.079689   1.505808    0.985595   1.027286   1.064869    1.080443   \n",
      "..         ...        ...         ...        ...        ...         ...   \n",
      "579   0.683556   0.262553    0.644075   1.234250   0.845246    1.260356   \n",
      "580   0.655574   0.124028    0.606728   1.194451   0.467062    1.144894   \n",
      "581   0.553482   0.254613    0.556871   1.097579   0.622884    0.892474   \n",
      "582   0.581201   0.790831    0.719145   1.293290   0.980957    1.489723   \n",
      "583   0.589110   0.901503    0.714044   1.253598   1.018139    1.487909   \n",
      "\n",
      "     Beta_TP9  Beta_AF8  Beta_TP10  Gamma_TP9  Gamma_AF8  Gamma_TP10  binary  \\\n",
      "0    1.092499  0.022146   1.075038   0.961251  -0.441780    1.535590    -1.0   \n",
      "1    1.092499 -0.015993   1.075038   0.961251  -0.446053    1.535590    -1.0   \n",
      "2    1.092499  0.188736   1.075038   0.961251  -0.402167    1.535590    -1.0   \n",
      "3    1.092499  0.108489   1.075038   0.961251  -0.463432    1.535590     1.0   \n",
      "4    1.092499 -0.102640   1.075038   0.961251  -0.641315    1.535590     1.0   \n",
      "..        ...       ...        ...        ...        ...         ...     ...   \n",
      "579  0.536113  0.148021   0.505935   0.288025   0.165256    0.459578     1.0   \n",
      "580  0.458930  0.130309   0.470673   0.282581   0.042499    0.271365     1.0   \n",
      "581  0.431894  0.272121   0.477133  -0.021023   0.020684    0.317980     1.0   \n",
      "582  0.396342  0.439607   0.444631  -0.159031   0.287368    0.188960     1.0   \n",
      "583  0.378422  0.661083   0.378116  -0.126242   0.322630    0.184285     1.0   \n",
      "\n",
      "    participant  \n",
      "0             A  \n",
      "1             A  \n",
      "2             A  \n",
      "3             A  \n",
      "4             A  \n",
      "..          ...  \n",
      "579           D  \n",
      "580           D  \n",
      "581           D  \n",
      "582           D  \n",
      "583           D  \n",
      "\n",
      "[584 rows x 19 columns]\n"
     ]
    }
   ],
   "source": [
    "data = concat_data(\"tv\", \"drwe\")\n",
    "data = data.reset_index()\n",
    "data.to_csv('test.csv', index = False)\n",
    "shape = data.shape\n",
    "print(data)"
   ]
  },
  {
   "cell_type": "markdown",
   "metadata": {},
   "source": [
    "### Data Preparation"
   ]
  },
  {
   "cell_type": "code",
   "execution_count": 33,
   "metadata": {},
   "outputs": [
    {
     "name": "stdout",
     "output_type": "stream",
     "text": [
      "index\n"
     ]
    }
   ],
   "source": [
    "# In this cell, x and y are put in numpy arrays.\n",
    "# Basic logistic regression model is made with 85% accuracy.\n",
    "# All the data is used.\n",
    "\n",
    "\n",
    "# Convert dataframe to numpy array\n",
    "x = data[data.columns[2:-2]].to_numpy()\n",
    "y = data[data.columns[-2]].to_numpy()\n",
    "print (data.columns[0])\n",
    "xOrig = x \n",
    "yOrig = y\n",
    "# dataOrig has 1, -1, 0\n",
    "dataOrig = data\n",
    "# data has 1, 0\n",
    "data = data[data['binary'] != -1]\n",
    "x = x[y != -1,:] \n",
    "y = y[y != -1]\n",
    "# Normalize Data\n",
    "scalerX = StandardScaler()\n",
    "X = scalerX.fit_transform(x)\n",
    "scalerX = StandardScaler()\n",
    "xOrig = scalerX.fit_transform(xOrig)"
   ]
  },
  {
   "cell_type": "markdown",
   "metadata": {},
   "source": [
    "## Conditional Variational Auto-Encoder"
   ]
  },
  {
   "cell_type": "markdown",
   "metadata": {},
   "source": [
    "### Torch Tensor"
   ]
  },
  {
   "cell_type": "code",
   "execution_count": 37,
   "metadata": {},
   "outputs": [],
   "source": [
    "# Torch Tensor\n",
    "# X is frequency bands\n",
    "#X.to_numpy()\n",
    "X = x\n",
    "X = torch.tensor(X)\n",
    "# y is the binary column\n",
    "y = dataOrig['binary']\n",
    "y = y.to_numpy()\n",
    "y = torch.tensor(y, dtype = torch.int64)"
   ]
  },
  {
   "cell_type": "markdown",
   "metadata": {},
   "source": [
    "#### Tensor Dataset"
   ]
  },
  {
   "cell_type": "code",
   "execution_count": 38,
   "metadata": {},
   "outputs": [],
   "source": [
    "# Tensor\n",
    "dataset = TensorDataset(X, y)\n",
    "\n",
    "trainloader = torch.utils.data.DataLoader(dataset, batch_size = 20,shuffle = True, num_workers = 2)\n",
    "for epoch in range(2):  # loop over the dataset multiple times\n",
    "    for i, data in enumerate(trainloader, 0):\n",
    "        # get the inputs; data is a list of [inputs, labels]\n",
    "        inputs, labels = data\n",
    "        # zero the parameter gradients"
   ]
  },
  {
   "cell_type": "markdown",
   "metadata": {},
   "source": [
    "### CVAE Object"
   ]
  },
  {
   "cell_type": "code",
   "execution_count": 39,
   "metadata": {},
   "outputs": [
    {
     "name": "stdout",
     "output_type": "stream",
     "text": [
      "tensor([[0., 1., 0., 0., 0., 0., 0., 0., 0., 0.],\n",
      "        [0., 0., 1., 0., 0., 0., 0., 0., 0., 0.],\n",
      "        [0., 0., 0., 1., 0., 0., 0., 0., 0., 0.],\n",
      "        [0., 1., 0., 0., 0., 0., 0., 0., 0., 0.]])\n"
     ]
    }
   ],
   "source": [
    "def onehot(label, numlabels):\n",
    "  r\"\"\" One hot encodes given tensor\n",
    "  :param label: zero-indexed labels of data (must be tensor)\n",
    "  :param numlabels: total number of labels possible\n",
    "  :return: onehot tensor encoding\n",
    "  \"\"\"\n",
    "  if label.dim() == 1:\n",
    "      label = label.unsqueeze(1)\n",
    "  onehot = torch.zeros(label.size(0), numlabels)\n",
    "  onehot.scatter_(1, label, 1)\n",
    "  \n",
    "  return onehot\n",
    "print(onehot(torch.tensor([1,2,3,1]),10)) # Run to understand what code doing"
   ]
  },
  {
   "cell_type": "code",
   "execution_count": 42,
   "metadata": {},
   "outputs": [],
   "source": [
    "class Encoder(nn.Module):\n",
    "  def __init__(self, layers, hidden, numlabels):\n",
    "    r\"\"\" Initializes and encoder model with following parameters\n",
    "    :param layers: an array/list where the ith element is the number of neurons to put in the ith layer [the first layer is the input layer]\n",
    "    :param hidden: size of hidden space\n",
    "    :param numlabels: number of labels to use\n",
    "    \"\"\"\n",
    "    super().__init__() # This line just tells nn.Module to do what it needs to do to get things ready for us to use\n",
    "    if len(layers) < 1:\n",
    "      raise ValueError('No layers specified')\n",
    "    layers[0] += numlabels # In a CVAE, we will input both the data (the EEG) and the label (a one-hot encoding)\n",
    "\n",
    "    self.net = nn.Sequential() # Sequential will let us add any number of layers and net will hold this network that we use.\n",
    "    self.numlabels = numlabels \n",
    "\n",
    "    for i in range(len(layers)-1):\n",
    "      # Add network layer\n",
    "      self.net.add_module(\n",
    "          name = f\"Layer {i + 1}\", # 1-indexed layer name\n",
    "          module = nn.Linear(layers[i], layers[i+1]) # fully connected \"normal\" network layer with given input and output size\n",
    "      )\n",
    "      # Add nonlinear function\n",
    "      self.net.add_module(\n",
    "          name = f\"Activation {i+1}\", \n",
    "          module = nn.ReLU() # relu activation function for nonlinearity\n",
    "      )\n",
    "\n",
    "    # So far, we've transformed our data. We want to produce a \"latent\"/\"hidden\" representation of our data.\n",
    "    # Importantly, we want to find the mean and standard deviation of such a distribution, becuase then we can \n",
    "    # randomly sample from this distribution.\n",
    "    self.meanlayer = nn.Linear(layers[-1], hidden) # generates layer for mean with last (layers[-1]) number to hidden size\n",
    "    self.logvarlayer = nn.Linear(layers[-1], hidden)\n",
    "\n",
    "  def forward(self, x, label):\n",
    "    r\"\"\" Computes prediction of this model.\n",
    "    :param x: input tensor data with shape (batch_size, dim1, dim2, etc.)\n",
    "    :param label: label to use\n",
    "    \"\"\"\n",
    "    label = onehot(label, self.numlabels) # Will convert to a vector\n",
    "    x = torch.cat((x, label.to(dtype=torch.float)), dim = -1) # Add label to input data\n",
    "    x = self.net(x.float()) # Runs input through model\n",
    "    mean = self.meanlayer(x) # Finds mean of latent space predicted\n",
    "    logvar = self.logvarlayer(x) # Finds log variance of latent space predicted\n",
    "\n",
    "    return mean, logvar    "
   ]
  },
  {
   "cell_type": "code",
   "execution_count": 43,
   "metadata": {},
   "outputs": [],
   "source": [
    "class Decoder(nn.Module):\n",
    "  def __init__(self, layers, hidden, numlabels):\n",
    "    r\"\"\" Initializes and encoder model with following parameters\n",
    "    :param layers: an array/list where the ith element is the number of neurons to put in the ith layer [the first layer is the input layer]\n",
    "    :param hidden: size of hidden space\n",
    "    :param numlabels: number of labels to use\n",
    "    \"\"\"\n",
    "    super().__init__() # This line just tells nn.Module to do what it needs to do to get things ready for us to use\n",
    "    if len(layers) < 1:\n",
    "      raise ValueError('No layers specified')\n",
    "    \n",
    "    inputsize = numlabels + hidden # we will be inputting our onehot encoding + the encoder output (hidden size)\n",
    "\n",
    "    self.net = nn.Sequential() # Sequential will let us add any number of layers and net will hold this network that we use.\n",
    "    self.numlabels = numlabels\n",
    "\n",
    "    # Add layer for input coming in\n",
    "    self.net.add_module(\n",
    "        name = f\"Layer {0}\", # 1-indexed layer name\n",
    "        module = nn.Linear(inputsize, layers[0]) # fully connected \"normal\" network layer with given input and output size\n",
    "    )\n",
    "    # Add nonlinear function\n",
    "    self.net.add_module(\n",
    "        name = f\"Activation {0}\", \n",
    "        module = nn.ReLU() # relu activation function for nonlinearity\n",
    "    )\n",
    "\n",
    "    for i in range(len(layers)-1):\n",
    "      # Add network layer\n",
    "      self.net.add_module(\n",
    "          name = f\"Layer {i + 1}\", # 1-indexed layer name\n",
    "          module = nn.Linear(layers[i], layers[i+1]) # fully connected \"normal\" network layer with given input and output size\n",
    "      )\n",
    "      # Add nonlinear function\n",
    "      if i < len(layers) - 2:\n",
    "        self.net.add_module(\n",
    "            name = f\"Activation {i+1}\", \n",
    "            module = nn.ReLU() # relu activation function for nonlinearity\n",
    "        )\n",
    "#       else:\n",
    "#         self.net.add_module(\n",
    "#             name = f\"Actifvation {i+1} (sigmoid)\", \n",
    "#             module = nn.Sigmoid()\n",
    "#         )\n",
    "\n",
    "  def forward(self, x, label):\n",
    "    r\"\"\" Computes prediction of this model.\n",
    "    :param x: input tensor data with shape (batch_size, dim1, dim2, etc.)\n",
    "    :param label: label to use\n",
    "    \"\"\"\n",
    "    label = onehot(label, self.numlabels) # Will convert to a vector\n",
    "    x = torch.cat((x, label), dim=-1) # Add label to input data\n",
    "    z = self.net(x) # Runs input through model\n",
    "    # mean = self.meanlayer(x) # Finds mean of latent space predicted\n",
    "    # logvar = self.logvarlayer(x) # Finds log variance of latent space predicted\n",
    "\n",
    "    return z   "
   ]
  },
  {
   "cell_type": "code",
   "execution_count": 44,
   "metadata": {},
   "outputs": [],
   "source": [
    "# Put encoder and decoder together\n",
    "class CVAE(nn.Module):\n",
    "  def __init__(self, enclayers, hidden, declayers, numlabels):\n",
    "    r\"\"\" Creates wrapper class.\n",
    "    :param enclayers: layers to pass into Encoder\n",
    "    :param hidden: number of neurons in hidden layer\n",
    "    :param declayers: layers to pass into Decoder\n",
    "    :param numlabels: total number of lables\n",
    "    \"\"\"\n",
    "    super().__init__()\n",
    "    # Defining fields to store.\n",
    "    self.hidden = hidden\n",
    "    self.encoder = Encoder(\n",
    "        layers = enclayers,\n",
    "        hidden = hidden,\n",
    "        numlabels = numlabels\n",
    "    )\n",
    "    self.decoder = Decoder (\n",
    "        layers = declayers,\n",
    "        hidden = hidden,\n",
    "        numlabels = numlabels\n",
    "    )\n",
    "\n",
    "  def forward(self, x, label):\n",
    "    r\"\"\" Runs through encoder and decoder (only useful for training)\n",
    "    :param x: input data with traditional pytorch size\n",
    "    :param label: label number [zero indexed] in tensor\n",
    "    \"\"\"\n",
    "    mean, logvar = self.encoder(x, label) # Get distribution\n",
    "    sample = self.sample(mean,logvar) # Get sample from distribution\n",
    "    reconstructed = self.decoder(sample, label) # Get reconstruction with decoder\n",
    "    return reconstructed, mean, logvar, sample\n",
    "\n",
    "  def predict(self, label):\n",
    "    r\"\"\" Generates data associated with given label\n",
    "    :param label: label with same notation as previously (should be a tensor)\n",
    "    :return: data with same size as training inputs\n",
    "    \"\"\"\n",
    "    sample = torch.randn([label.size(0), self.hidden])\n",
    "    return self.decoder(sample, label)\n",
    "\n",
    "  def sample(self, mean, logvar):\n",
    "    r\"\"\" Draws from normal distribution with given parameters.\n",
    "    :param mean: mean of distribution\n",
    "    :param logvar: log of variance\n",
    "    :return: random sample\n",
    "    \"\"\"\n",
    "    std = torch.exp(0.5 * logvar)\n",
    "    randnums = torch.randn_like(std)\n",
    "    return mean + randnums * std\n"
   ]
  },
  {
   "cell_type": "code",
   "execution_count": 45,
   "metadata": {},
   "outputs": [
    {
     "name": "stdout",
     "output_type": "stream",
     "text": [
      "(tensor([[ 0.4753,  0.6914, -0.1110,  0.1341, -0.1254]],\n",
      "       grad_fn=<AddmmBackward>), tensor([[-0.4875, -0.4193]], grad_fn=<AddmmBackward>), tensor([[ 0.4004, -0.3288]], grad_fn=<AddmmBackward>), tensor([[-2.0720,  0.2759]], grad_fn=<AddBackward0>))\n"
     ]
    }
   ],
   "source": [
    "model = CVAE([3,5,2], 2, [2,3,5], 10)\n",
    "print(model.forward(torch.unsqueeze(torch.tensor([1,2,3]),0),torch.tensor([1])))"
   ]
  },
  {
   "cell_type": "code",
   "execution_count": 46,
   "metadata": {},
   "outputs": [],
   "source": [
    "def loss_fn(reconstructed, x, mean, logvar):\n",
    "  r\"\"\" Computes loss of VAE output.\n",
    "  :param reconstructed: what the VAE said\n",
    "  :param x: what the inputs were\n",
    "  :param mean: what the VAE found hte mean was\n",
    "  :param logvar: what hte VAE found the logvar to be\n",
    "  :return: the loss\n",
    "  \"\"\"\n",
    "  bce = torch.nn.functional.mse_loss(reconstructed.view(-1,15), x.float().view(-1,15)) # TODO: change 15 to number of features :)\n",
    "  kld = -0.5 * torch.sum(1+logvar-mean.pow(2)-logvar.exp())\n",
    "  return (bce + kld)/x.size(0)"
   ]
  },
  {
   "cell_type": "markdown",
   "metadata": {},
   "source": [
    "### Train CVAE"
   ]
  },
  {
   "cell_type": "code",
   "execution_count": 47,
   "metadata": {},
   "outputs": [
    {
     "name": "stderr",
     "output_type": "stream",
     "text": [
      "C:\\Users\\Cleah\\anaconda3\\envs\\pt-project\\lib\\site-packages\\torch\\autograd\\__init__.py:130: UserWarning: CUDA initialization: Found no NVIDIA driver on your system. Please check that you have an NVIDIA GPU and installed a driver from http://www.nvidia.com/Download/index.aspx (Triggered internally at  ..\\c10\\cuda\\CUDAFunctions.cpp:100.)\n",
      "  Variable._execution_engine.run_backward(\n"
     ]
    },
    {
     "name": "stdout",
     "output_type": "stream",
     "text": [
      "[1,    10] loss: 0.333\n",
      "[2,    10] loss: 0.183\n",
      "[3,    10] loss: 0.124\n",
      "[4,    10] loss: 0.096\n",
      "[5,    10] loss: 0.078\n",
      "[6,    10] loss: 0.067\n",
      "[7,    10] loss: 0.059\n",
      "[8,    10] loss: 0.052\n",
      "[9,    10] loss: 0.050\n",
      "[10,    10] loss: 0.047\n",
      "[11,    10] loss: 0.044\n",
      "[12,    10] loss: 0.042\n",
      "[13,    10] loss: 0.041\n",
      "[14,    10] loss: 0.040\n",
      "[15,    10] loss: 0.039\n",
      "[16,    10] loss: 0.039\n",
      "[17,    10] loss: 0.038\n",
      "[18,    10] loss: 0.038\n",
      "[19,    10] loss: 0.036\n",
      "[20,    10] loss: 0.034\n",
      "Finished Training\n"
     ]
    }
   ],
   "source": [
    "# Creating an object\n",
    "net = CVAE([15, 10, 5], 8, [5, 10, 15], 2)\n",
    "# Creating an optimizer\n",
    "optimizer = optim.SGD(net.parameters(), lr = 0.01, momentum = 0.4)\n",
    "\n",
    "losses = []\n",
    "for epoch in range(20):  # loop over the dataset multiple times\n",
    "\n",
    "    running_loss = 0.0\n",
    "    for i, data in enumerate(trainloader, 0):\n",
    "        # get the inputs; data is a list of [inputs, labels]\n",
    "        inputs, labels = data\n",
    "        # zero the parameter gradients\n",
    "        optimizer.zero_grad()\n",
    "\n",
    "        # forward + backward + optimize\n",
    "        reconstructed, mean, logvar, sample = net(inputs, labels)\n",
    "        loss = loss_fn(reconstructed, inputs, mean, logvar)\n",
    "        loss.backward()\n",
    "        optimizer.step()\n",
    "\n",
    "        # print statistics\n",
    "        running_loss += loss.item()\n",
    "        if i % 10 == 9:    # print every 10 mini-batches\n",
    "            print('[%d, %5d] loss: %.3f' %\n",
    "                  (epoch + 1, i + 1, running_loss / 10))\n",
    "            losses.append(running_loss/10)\n",
    "            running_loss = 0.0\n",
    "  \n",
    "print('Finished Training')"
   ]
  },
  {
   "cell_type": "markdown",
   "metadata": {},
   "source": [
    "### Test CVAE"
   ]
  },
  {
   "cell_type": "markdown",
   "metadata": {},
   "source": [
    "#### Loss Curve"
   ]
  },
  {
   "cell_type": "code",
   "execution_count": 48,
   "metadata": {},
   "outputs": [
    {
     "name": "stdout",
     "output_type": "stream",
     "text": [
      "(20,)\n"
     ]
    },
    {
     "data": {
      "text/plain": [
       "Text(0, 0.5, 'Loss')"
      ]
     },
     "execution_count": 48,
     "metadata": {},
     "output_type": "execute_result"
    },
    {
     "data": {
      "image/png": "[encoded data removed]",
      "text/plain": [
       "<Figure size 432x288 with 1 Axes>"
      ]
     },
     "metadata": {},
     "output_type": "display_data"
    }
   ],
   "source": [
    "# Loss Curve\n",
    "loss = np.array(losses)\n",
    "print(np.array(losses).shape)\n",
    "plt.plot(range(len(loss)), loss)\n",
    "plt.xlabel('Iteration Number')\n",
    "plt.ylabel('Loss')"
   ]
  },
  {
   "cell_type": "markdown",
   "metadata": {},
   "source": [
    "#### Multi-Layer Perceptron"
   ]
  },
  {
   "cell_type": "markdown",
   "metadata": {},
   "source": [
    "##### Training ---> Real Data & Testing ---> Real Data"
   ]
  },
  {
   "cell_type": "code",
   "execution_count": 49,
   "metadata": {},
   "outputs": [
    {
     "name": "stderr",
     "output_type": "stream",
     "text": [
      "C:\\Users\\Cleah\\anaconda3\\envs\\pt-project\\lib\\site-packages\\sklearn\\neural_network\\_multilayer_perceptron.py:614: ConvergenceWarning: Stochastic Optimizer: Maximum iterations (300) reached and the optimization hasn't converged yet.\n",
      "  warnings.warn(\n"
     ]
    },
    {
     "name": "stdout",
     "output_type": "stream",
     "text": [
      "[[14 12]\n",
      " [ 8 21]]\n"
     ]
    },
    {
     "data": {
      "image/png": "[encoded data removed]",
      "text/plain": [
       "<Figure size 432x288 with 2 Axes>"
      ]
     },
     "metadata": {},
     "output_type": "display_data"
    }
   ],
   "source": [
    "# Multiple Layer Perceptron\n",
    "X_train, X_test, y_train, y_test = train_test_split(X.numpy(), y.numpy(), test_size = 0.20, random_state = 42)\n",
    "multilper = MLPClassifier(random_state = 1, max_iter = 300, hidden_layer_sizes = (100, 100)).fit(X_train, y_train)\n",
    "y_pred = multilper.predict(X_test)\n",
    "multilper.score(X_test, y_test)\n",
    "\n",
    "# Confusion Matrix\n",
    "cnf_matrix = metrics.confusion_matrix(y_test, y_pred)\n",
    "print(cnf_matrix)\n",
    "class_names = [1,2,3,4,5]\n",
    "fig, ax = plt.subplots()\n",
    "tick_marks = np.arange(len(class_names))\n",
    "plt.xticks(tick_marks, class_names)\n",
    "plt.yticks(tick_marks, class_names)\n",
    "sns.heatmap(pd.DataFrame(cnf_matrix), annot = True, cmap = 'YlGnBu', fmt = 'g')\n",
    "ax.xaxis.set_label_position(\"top\")\n",
    "plt.tight_layout()\n",
    "plt.title('Confusion matrix', y=1.1)\n",
    "plt.ylabel('Actual label')\n",
    "plt.xlabel('Predicted label')\n",
    "plt.show()\n"
   ]
  },
  {
   "cell_type": "markdown",
   "metadata": {},
   "source": [
    "##### Training ---> CVAE Data & Testing ---> Real Data"
   ]
  },
  {
   "cell_type": "code",
   "execution_count": 50,
   "metadata": {},
   "outputs": [
    {
     "name": "stdout",
     "output_type": "stream",
     "text": [
      "[[114  12]\n",
      " [137  10]]\n"
     ]
    },
    {
     "data": {
      "image/png": "[encoded data removed]",
      "text/plain": [
       "<Figure size 432x288 with 2 Axes>"
      ]
     },
     "metadata": {},
     "output_type": "display_data"
    }
   ],
   "source": [
    "# Make a tensor of 0s and 1s for hot/cold\n",
    "num_examples = 500\n",
    "labels_test = torch.zeros(num_examples, dtype = torch.int64)\n",
    "labels_test[0:int(num_examples / 2)] = 1\n",
    "\n",
    "# Get trained CVAE's predicted EEG for those labels using the predict function\n",
    "predictCVAE = net.predict(labels_test)\n",
    "\n",
    "# Convert EEG to numpy using .numpy() and feed into multilper.predict\n",
    "predictCVAE = predictCVAE.detach().numpy()\n",
    "predictMLP = multilper.predict(predictCVAE)\n",
    "\n",
    "# Multi-layer perceptron for the CVAE output\n",
    "multilper = MLPClassifier(random_state = 1, max_iter = 300, hidden_layer_sizes = (100, 100)).fit(predictCVAE, labels_test)\n",
    "y_pred1 = multilper.predict(X)\n",
    "multilper.score(X_test, y_test)\n",
    "\n",
    "# Confusion Matrix\n",
    "cnf_matrix = metrics.confusion_matrix(y, y_pred1)\n",
    "print(cnf_matrix)\n",
    "class_names = [1,2,3,4,5]\n",
    "fig, ax = plt.subplots()\n",
    "tick_marks = np.arange(len(class_names))\n",
    "plt.xticks(tick_marks, class_names)\n",
    "plt.yticks(tick_marks, class_names)\n",
    "sns.heatmap(pd.DataFrame(cnf_matrix), annot = True, cmap = 'YlGnBu', fmt = 'g')\n",
    "ax.xaxis.set_label_position(\"top\")\n",
    "plt.tight_layout()\n",
    "plt.title('Confusion matrix', y = 1.1)\n",
    "plt.ylabel('Actual label')\n",
    "plt.xlabel('Predicted label')\n",
    "plt.show()\n",
    "\n",
    "# Score original labels with multilper.predict\n"
   ]
  },
  {
   "cell_type": "markdown",
   "metadata": {},
   "source": [
    "###### Confusion Matrix"
   ]
  },
  {
   "cell_type": "code",
   "execution_count": 51,
   "metadata": {},
   "outputs": [
    {
     "name": "stdout",
     "output_type": "stream",
     "text": [
      "[[  0 250]\n",
      " [  2 248]]\n"
     ]
    },
    {
     "data": {
      "image/png": "[encoded data removed]",
      "text/plain": [
       "<Figure size 432x288 with 2 Axes>"
      ]
     },
     "metadata": {},
     "output_type": "display_data"
    }
   ],
   "source": [
    "# Confusion Matrix\n",
    "cnf_matrix = metrics.confusion_matrix(labels_test, predictMLP)\n",
    "print(cnf_matrix)\n",
    "class_names = [1,2,3,4,5]\n",
    "fig, ax = plt.subplots()\n",
    "tick_marks = np.arange(len(class_names))\n",
    "plt.xticks(tick_marks, class_names)\n",
    "plt.yticks(tick_marks, class_names)\n",
    "sns.heatmap(pd.DataFrame(cnf_matrix), annot = True, cmap = 'YlGnBu', fmt = 'g')\n",
    "ax.xaxis.set_label_position(\"top\")\n",
    "plt.tight_layout()\n",
    "plt.title('Confusion matrix', y=1.1)\n",
    "plt.ylabel('Actual label')\n",
    "plt.xlabel('Predicted label')\n",
    "plt.show()"
   ]
  },
  {
   "cell_type": "markdown",
   "metadata": {},
   "source": [
    "#### Logistic Regression"
   ]
  },
  {
   "cell_type": "code",
   "execution_count": 52,
   "metadata": {},
   "outputs": [
    {
     "name": "stdout",
     "output_type": "stream",
     "text": [
      "Accuracy:  0.5\n"
     ]
    }
   ],
   "source": [
    "# Split data into 80% Training and 20% Testing\n",
    "X_train, X_test, y_train, y_test = train_test_split(X.numpy(), y.numpy(), test_size = 0.20, random_state = 42)\n",
    "logReg2 = LogisticRegression(random_state = 0)\n",
    "logReg2 = logReg2.fit(X, y)\n",
    "y_predLR = logReg2.predict(predictCVAE)\n",
    "# Model Accuracy\n",
    "accuracy = metrics.accuracy_score(labels_test, y_predLR)\n",
    "print(\"Accuracy: \", accuracy)"
   ]
  },
  {
   "cell_type": "markdown",
   "metadata": {},
   "source": [
    "##### Confusion Matrix"
   ]
  },
  {
   "cell_type": "code",
   "execution_count": 53,
   "metadata": {},
   "outputs": [
    {
     "name": "stdout",
     "output_type": "stream",
     "text": [
      "[[249   1]\n",
      " [249   1]]\n"
     ]
    },
    {
     "data": {
      "image/png": "[encoded data removed]",
      "text/plain": [
       "<Figure size 432x288 with 2 Axes>"
      ]
     },
     "metadata": {},
     "output_type": "display_data"
    }
   ],
   "source": [
    "# Confusion Matrix\n",
    "cnf_matrix = metrics.confusion_matrix(labels_test, y_predLR)\n",
    "print(cnf_matrix)\n",
    "class_names = [1,2,3,4,5]\n",
    "fig, ax = plt.subplots()\n",
    "tick_marks = np.arange(len(class_names))\n",
    "plt.xticks(tick_marks, class_names)\n",
    "plt.yticks(tick_marks, class_names)\n",
    "sns.heatmap(pd.DataFrame(cnf_matrix), annot = True, cmap = 'YlGnBu', fmt = 'g')\n",
    "ax.xaxis.set_label_position(\"top\")\n",
    "plt.tight_layout()\n",
    "plt.title('Confusion matrix', y=1.1)\n",
    "plt.ylabel('Actual label')\n",
    "plt.xlabel('Predicted label')\n",
    "plt.show()"
   ]
  }
 ],
 "metadata": {
  "kernelspec": {
   "display_name": "Python 3",
   "language": "python",
   "name": "python3"
  },
  "language_info": {
   "codemirror_mode": {
    "name": "ipython",
    "version": 3
   },
   "file_extension": ".py",
   "mimetype": "text/x-python",
   "name": "python",
   "nbconvert_exporter": "python",
   "pygments_lexer": "ipython3",
   "version": "3.8.8"
  }
 },
 "nbformat": 4,
 "nbformat_minor": 4
}
